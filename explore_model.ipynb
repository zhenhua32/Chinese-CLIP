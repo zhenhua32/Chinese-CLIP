{
 "cells": [
  {
   "cell_type": "code",
   "execution_count": 1,
   "metadata": {},
   "outputs": [],
   "source": [
    "import os\n",
    "import json\n",
    "\n",
    "import torch\n",
    "from PIL import Image\n",
    "\n",
    "import cn_clip.clip as clip\n",
    "from cn_clip.clip.model import CLIP\n",
    "from cn_clip.clip import load_from_name"
   ]
  },
  {
   "cell_type": "code",
   "execution_count": 2,
   "metadata": {},
   "outputs": [
    {
     "name": "stdout",
     "output_type": "stream",
     "text": [
      "cuda\n",
      "Loading vision model config from g:\\code\\github\\Chinese-CLIP\\cn_clip\\clip\\model_configs\\ViT-B-16.json\n",
      "Loading text model config from g:\\code\\github\\Chinese-CLIP\\cn_clip\\clip\\model_configs\\RoBERTa-wwm-ext-base-chinese.json\n",
      "Model info {'embed_dim': 512, 'image_resolution': 224, 'vision_layers': 12, 'vision_width': 768, 'vision_patch_size': 16, 'vocab_size': 21128, 'text_attention_probs_dropout_prob': 0.1, 'text_hidden_act': 'gelu', 'text_hidden_dropout_prob': 0.1, 'text_hidden_size': 768, 'text_initializer_range': 0.02, 'text_intermediate_size': 3072, 'text_max_position_embeddings': 512, 'text_num_attention_heads': 12, 'text_num_hidden_layers': 12, 'text_type_vocab_size': 2}\n",
      "将模型转换成 float16 精度\n"
     ]
    }
   ],
   "source": [
    "device = \"cuda\" if torch.cuda.is_available() else \"cpu\"\n",
    "print(device)\n",
    "\n",
    "model, preprocess = load_from_name(\n",
    "    # \"./datapath/pretrained_weights/clip_cn_vit-b-16.pt\", \n",
    "    r\"datapath\\experiments\\muge_finetune_vit-b-16_roberta-base_bs160\\checkpoints\\epoch_latest.pt\",\n",
    "    device=device,\n",
    "    vision_model_name=\"ViT-B-16\",\n",
    "    text_model_name=\"RoBERTa-wwm-ext-base-chinese\",\n",
    "    input_resolution=224,\n",
    "    convert_to_float16=True,\n",
    ")\n",
    "model: CLIP = model.eval()"
   ]
  },
  {
   "cell_type": "code",
   "execution_count": 3,
   "metadata": {},
   "outputs": [],
   "source": [
    "image = preprocess(Image.open(\"examples/pokemon.jpeg\")).unsqueeze(0).to(device)\n",
    "text = clip.tokenize([\"杰尼龟\", \"妙蛙种子\", \"小火龙\", \"皮卡丘\"]).to(device)"
   ]
  },
  {
   "cell_type": "code",
   "execution_count": 4,
   "metadata": {},
   "outputs": [
    {
     "data": {
      "text/plain": [
       "Parameter containing:\n",
       "tensor([[ 0.0641, -0.0203, -0.0554,  ...,  0.0064,  0.0111,  0.0027],\n",
       "        [-0.0107,  0.0267,  0.0710,  ..., -0.0269, -0.0165, -0.0383],\n",
       "        [ 0.0335, -0.0278, -0.0208,  ...,  0.1006, -0.0765, -0.0527],\n",
       "        ...,\n",
       "        [-0.0514, -0.0186, -0.0291,  ...,  0.0462,  0.0694,  0.0090],\n",
       "        [ 0.0236, -0.0348,  0.0444,  ...,  0.0475,  0.0318, -0.0482],\n",
       "        [-0.0399, -0.0189,  0.0106,  ...,  0.0303,  0.0917,  0.0359]],\n",
       "       device='cuda:0', dtype=torch.float16, requires_grad=True)"
      ]
     },
     "execution_count": 4,
     "metadata": {},
     "output_type": "execute_result"
    }
   ],
   "source": [
    "# 这个层不在模型结构里显示\n",
    "model.text_projection"
   ]
  },
  {
   "cell_type": "code",
   "execution_count": 5,
   "metadata": {},
   "outputs": [
    {
     "name": "stdout",
     "output_type": "stream",
     "text": [
      "torch.Size([1, 3, 224, 224]) torch.float32\n",
      "torch.Size([4, 52]) torch.int64\n"
     ]
    }
   ],
   "source": [
    "print(image.shape, image.dtype)\n",
    "print(text.shape, text.dtype)"
   ]
  },
  {
   "cell_type": "code",
   "execution_count": 6,
   "metadata": {},
   "outputs": [
    {
     "name": "stdout",
     "output_type": "stream",
     "text": [
      "torch.Size([1, 512]) torch.float16\n",
      "torch.Size([4, 512]) torch.float16\n"
     ]
    }
   ],
   "source": [
    "with torch.no_grad():\n",
    "    image_features = model.encode_image(image)\n",
    "    text_features = model.encode_text(text)\n",
    "\n",
    "# 果然, 这里都是 float16\n",
    "print(image_features.shape, image_features.dtype)\n",
    "print(text_features.shape, text_features.dtype)"
   ]
  },
  {
   "attachments": {},
   "cell_type": "markdown",
   "metadata": {},
   "source": [
    "# 看看怎么不用精度转换, 直接用 float32"
   ]
  },
  {
   "cell_type": "code",
   "execution_count": 7,
   "metadata": {},
   "outputs": [
    {
     "name": "stdout",
     "output_type": "stream",
     "text": [
      "Loading vision model config from g:\\code\\github\\Chinese-CLIP\\cn_clip\\clip\\model_configs\\ViT-B-16.json\n",
      "Loading text model config from g:\\code\\github\\Chinese-CLIP\\cn_clip\\clip\\model_configs\\RoBERTa-wwm-ext-base-chinese.json\n",
      "Model info {'embed_dim': 512, 'image_resolution': 224, 'vision_layers': 12, 'vision_width': 768, 'vision_patch_size': 16, 'vocab_size': 21128, 'text_attention_probs_dropout_prob': 0.1, 'text_hidden_act': 'gelu', 'text_hidden_dropout_prob': 0.1, 'text_hidden_size': 768, 'text_initializer_range': 0.02, 'text_intermediate_size': 3072, 'text_max_position_embeddings': 512, 'text_num_attention_heads': 12, 'text_num_hidden_layers': 12, 'text_type_vocab_size': 2}\n",
      "torch.Size([1, 512]) torch.float32\n",
      "torch.Size([4, 512]) torch.float32\n"
     ]
    }
   ],
   "source": [
    "model, preprocess = load_from_name(\n",
    "    # \"./datapath/pretrained_weights/clip_cn_vit-b-16.pt\", \n",
    "    r\"datapath\\experiments\\muge_finetune_vit-b-16_roberta-base_bs160\\checkpoints\\epoch_latest.pt\",\n",
    "    device=device,\n",
    "    vision_model_name=\"ViT-B-16\",\n",
    "    text_model_name=\"RoBERTa-wwm-ext-base-chinese\",\n",
    "    input_resolution=224,\n",
    "    convert_to_float16=False,\n",
    ")\n",
    "model: CLIP = model.eval()\n",
    "\n",
    "with torch.no_grad():\n",
    "    image_features = model.encode_image(image)\n",
    "    text_features = model.encode_text(text)\n",
    "\n",
    "# 果然, 这里都是 float16\n",
    "print(image_features.shape, image_features.dtype)\n",
    "print(text_features.shape, text_features.dtype)"
   ]
  },
  {
   "cell_type": "code",
   "execution_count": 8,
   "metadata": {},
   "outputs": [
    {
     "data": {
      "text/plain": [
       "torch.float32"
      ]
     },
     "execution_count": 8,
     "metadata": {},
     "output_type": "execute_result"
    }
   ],
   "source": [
    "model.visual(image, 0).dtype"
   ]
  }
 ],
 "metadata": {
  "kernelspec": {
   "display_name": "venv",
   "language": "python",
   "name": "python3"
  },
  "language_info": {
   "codemirror_mode": {
    "name": "ipython",
    "version": 3
   },
   "file_extension": ".py",
   "mimetype": "text/x-python",
   "name": "python",
   "nbconvert_exporter": "python",
   "pygments_lexer": "ipython3",
   "version": "3.8.12"
  },
  "orig_nbformat": 4
 },
 "nbformat": 4,
 "nbformat_minor": 2
}
