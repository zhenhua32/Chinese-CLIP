{
 "cells": [
  {
   "attachments": {},
   "cell_type": "markdown",
   "metadata": {},
   "source": [
    "# 微调 muge\n",
    "\n",
    "```bash\n",
    "cd Chinese-CLIP/\n",
    "bash run_scripts/muge_finetune_vit-b-16_rbt-base.sh ${DATAPATH}\n",
    "```\n",
    "\n",
    "毕竟是在 windows 上运行的, 所以得改下脚本"
   ]
  },
  {
   "cell_type": "code",
   "execution_count": null,
   "metadata": {},
   "outputs": [],
   "source": [
    "!python -m torch.distributed.launch --use_env --nproc_per_node=1 --nnodes=1 --node_rank=0 --master_addr=localhost --master_port=8514 cn_clip/training/main.py --train-data=./datapath/datasets/MUGE/lmdb/train --val-data=./datapath/datasets/MUGE/lmdb/valid --resume=./datapath/pretrained_weights/clip_cn_vit-b-16.pt --reset-data-offset --reset-optimizer --logs=./datapath/experiments/ --name=muge_finetune_vit-b-16_roberta-base_bs128_1gpu --save-step-frequency=999999 --save-epoch-frequency=1 --log-interval=1 --report-training-batch-acc --context-length=52 --warmup=100 --batch-size=128 --valid-batch-size=128 --valid-step-interval=150 --valid-epoch-interval=1 --accum-freq=1 --lr=5E-05 --wd=0.001 --max-epochs=3 --vision-model=ViT-B-16 --use-augment --text-model=RoBERTa-wwm-ext-base-chinese"
   ]
  },
  {
   "attachments": {},
   "cell_type": "markdown",
   "metadata": {},
   "source": [
    "```bash\n",
    "python -m torch.distributed.launch \n",
    "--use_env \n",
    "--nproc_per_node=1 \n",
    "--nnodes=1 \n",
    "--node_rank=0 \n",
    "--master_addr=localhost \n",
    "--master_port=8514 \n",
    "cn_clip/training/main.py \n",
    "--train-data=./datapath/datasets/MUGE/lmdb/train \n",
    "--val-data=./datapath/datasets/MUGE/lmdb/valid \n",
    "--resume=./datapath/pretrained_weights/clip_cn_vit-b-16.pt \n",
    "--reset-data-offset \n",
    "--reset-optimizer \n",
    "--logs=./datapath/experiments/ \n",
    "--name=muge_finetune_vit-b-16_roberta-base_bs128_1gpu \n",
    "--save-step-frequency=999999 \n",
    "--save-epoch-frequency=1 \n",
    "--log-interval=1 \n",
    "--report-training-batch-acc \n",
    "--context-length=52 \n",
    "--warmup=100 \n",
    "--batch-size=128 \n",
    "--valid-batch-size=128 \n",
    "--valid-step-interval=150 \n",
    "--valid-epoch-interval=1 \n",
    "--accum-freq=1 \n",
    "--lr=5E-05 \n",
    "--wd=0.001 \n",
    "--max-epochs=3 \n",
    "--vision-model=ViT-B-16 \n",
    "--use-augment \n",
    "--text-model=RoBERTa-wwm-ext-base-chinese\n",
    "```"
   ]
  },
  {
   "cell_type": "code",
   "execution_count": null,
   "metadata": {},
   "outputs": [],
   "source": [
    "!python -m torch.distributed.launch --use_env --nproc_per_node=1 --nnodes=1 --node_rank=0 --master_addr=localhost --master_port=8514 cn_clip/training/main.py --train-data=./datapath/datasets/MUGE/lmdb/train --val-data=./datapath/datasets/MUGE/lmdb/valid --resume=./datapath/pretrained_weights/clip_cn_vit-b-16.pt --reset-data-offset --reset-optimizer --logs=./datapath/experiments/ --name=muge_finetune_vit-b-16_roberta-base_bs128_1gpu --save-step-frequency=999999 --save-epoch-frequency=1 --log-interval=1 --report-training-batch-acc --context-length=52 --warmup=100 --batch-size=128 --valid-batch-size=128 --valid-step-interval=150 --valid-epoch-interval=1 --accum-freq=1 --lr=5E-05 --wd=0.001 --max-epochs=3 --vision-model=ViT-B-16 --use-augment --text-model=RoBERTa-wwm-ext-base-chinese"
   ]
  },
  {
   "cell_type": "code",
   "execution_count": null,
   "metadata": {},
   "outputs": [],
   "source": [
    "!python -m torch.distributed.launch --use_env --nproc_per_node=1 --nnodes=1 --node_rank=0 --master_addr=localhost --master_port=8514 cn_clip/training/main.py --train-data=./datapath/datasets/MUGE/lmdb/train --val-data=./datapath/datasets/MUGE/lmdb/valid --resume=./datapath/pretrained_weights/clip_cn_vit-b-16.pt --reset-data-offset --reset-optimizer --logs=./datapath/experiments/ --name=muge_finetune_vit-b-16_roberta-base_bs160_1gpu --save-step-frequency=999999 --save-epoch-frequency=1 --log-interval=1 --report-training-batch-acc --context-length=52 --warmup=100 --batch-size=160 --valid-batch-size=160 --valid-step-interval=150 --valid-epoch-interval=1 --accum-freq=1 --lr=3E-06 --wd=0.001 --max-epochs=3 --vision-model=ViT-B-16 --use-augment --text-model=RoBERTa-wwm-ext-base-chinese --use-flash-attention"
   ]
  }
 ],
 "metadata": {
  "kernelspec": {
   "display_name": "venv",
   "language": "python",
   "name": "python3"
  },
  "language_info": {
   "name": "python",
   "version": "3.8.12"
  },
  "orig_nbformat": 4
 },
 "nbformat": 4,
 "nbformat_minor": 2
}
